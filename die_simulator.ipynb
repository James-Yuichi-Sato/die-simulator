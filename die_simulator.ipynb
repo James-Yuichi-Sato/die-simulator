{
 "cells": [
  {
   "cell_type": "code",
   "execution_count": 1,
   "metadata": {},
   "outputs": [],
   "source": [
    "from concurrent import futures\n",
    "from datetime import datetime\n",
    "from random import randint"
   ]
  },
  {
   "cell_type": "code",
   "execution_count": 18,
   "metadata": {},
   "outputs": [],
   "source": [
    "NUMBER_OF_ATTEMPTS: int = 10000000"
   ]
  },
  {
   "cell_type": "code",
   "execution_count": 19,
   "metadata": {},
   "outputs": [],
   "source": [
    "def roll_dice() -> int:\n",
    "    number_success: int = 0\n",
    "    \n",
    "    while number_success < 177:\n",
    "        if randint(1, 4) == 1:\n",
    "            number_success += 1\n",
    "        else:\n",
    "            break\n",
    "    return number_success\n",
    "\n",
    "start_time = datetime.now()\n",
    "\n",
    "max_successes: int = 0\n",
    "\n",
    "with futures.ThreadPoolExecutor(max_workers=60) as executor:\n",
    "    future_attempts = {executor.submit(roll_dice): attempt for attempt in list(range(NUMBER_OF_ATTEMPTS))}\n",
    "    for attempt_result in futures.as_completed(future_attempts):\n",
    "        successes = attempt_result.result()\n",
    "        if successes > max_successes:\n",
    "            max_successes = successes\n",
    "        future_attempts.pop(attempt_result)\n",
    "\n",
    "\n",
    "time_elapsed = datetime.now() - start_time\n",
    "\n",
    "print(f\"Highest Ones Roll: {max_successes}\")\n",
    "print(f\"Number of Roll Sessions: {NUMBER_OF_ATTEMPTS}\")\n",
    "print(f\"Calculation Time: {time_elapsed} seconds\")"
   ]
  },
  {
   "cell_type": "code",
   "execution_count": null,
   "metadata": {},
   "outputs": [],
   "source": []
  },
  {
   "cell_type": "code",
   "execution_count": null,
   "metadata": {},
   "outputs": [],
   "source": []
  }
 ],
 "metadata": {
  "kernelspec": {
   "display_name": "Python 3",
   "language": "python",
   "name": "python3"
  },
  "language_info": {
   "codemirror_mode": {
    "name": "ipython",
    "version": 3
   },
   "file_extension": ".py",
   "mimetype": "text/x-python",
   "name": "python",
   "nbconvert_exporter": "python",
   "pygments_lexer": "ipython3",
   "version": "3.12.5"
  }
 },
 "nbformat": 4,
 "nbformat_minor": 2
}
